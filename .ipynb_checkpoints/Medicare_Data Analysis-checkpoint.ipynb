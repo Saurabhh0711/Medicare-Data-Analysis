{
 "cells": [
  {
   "cell_type": "markdown",
   "id": "467f4562",
   "metadata": {},
   "source": [
    "# **Notebook for Medicare Data Analysis**"
   ]
  },
  {
   "attachments": {
    "OIP.jpeg": {
     "image/jpeg": "[encoded data removed]"
    }
   },
   "cell_type": "markdown",
   "id": "04e18052",
   "metadata": {},
   "source": [
    "![OIP.jpeg](attachment:OIP.jpeg)"
   ]
  },
  {
   "cell_type": "code",
   "execution_count": null,
   "id": "f6c3fedb",
   "metadata": {},
   "outputs": [],
   "source": [
    "import pandas as pd\n",
    "import numpy as np\n",
    "import matplotlib.pyplot as plt\n",
    "%matplotlib inline\n",
    "import seaborn as sns"
   ]
  },
  {
   "cell_type": "code",
   "execution_count": null,
   "id": "501e27fb",
   "metadata": {},
   "outputs": [],
   "source": [
    "import plotly.graph_objects as go"
   ]
  },
  {
   "cell_type": "code",
   "execution_count": null,
   "id": "cef310cf",
   "metadata": {},
   "outputs": [],
   "source": [
    "df = pd.read_csv('2010_BSA_Outpatient_PUF.csv')"
   ]
  },
  {
   "cell_type": "code",
   "execution_count": null,
   "id": "1f3216ed",
   "metadata": {},
   "outputs": [],
   "source": [
    "df.head()"
   ]
  },
  {
   "cell_type": "code",
   "execution_count": null,
   "id": "f38d92b9",
   "metadata": {},
   "outputs": [],
   "source": [
    "df.tail()"
   ]
  },
  {
   "cell_type": "code",
   "execution_count": null,
   "id": "1e92425c",
   "metadata": {},
   "outputs": [],
   "source": [
    "df.info()"
   ]
  },
  {
   "cell_type": "markdown",
   "id": "48678ccb",
   "metadata": {},
   "source": [
    "#### BENE_SEX_IDENT_CD\n",
    "This field indicates the sex of the beneficiery."
   ]
  },
  {
   "cell_type": "markdown",
   "id": "f2d7c64d",
   "metadata": {},
   "source": [
    "#### BENE_AGE_CAT_CD\n",
    "This categorical variable is based on the beneficiary's age at end of the reference year (2010).  "
   ]
  },
  {
   "cell_type": "markdown",
   "id": "74a3556a",
   "metadata": {},
   "source": [
    "#### OP_CLM_ICD9_DIAG_CD\n",
    "The ICD‐9‐CM code indicates the primary diagnosis code associated with the claim. It gives the knowledge of the diagnosis given to the patient."
   ]
  },
  {
   "cell_type": "markdown",
   "id": "5b4e9604",
   "metadata": {},
   "source": [
    "#### OP_HCPCD_CD \n",
    "This Variable consists of thr HCPCS Codes that are required for medical providers to submit healthcare claims to Medicare and other health insurances in a consistent and orderly manner."
   ]
  },
  {
   "cell_type": "markdown",
   "id": "dcc78245",
   "metadata": {},
   "source": [
    "#### OP_HCPCS_UNIT_CNT\n",
    "This variable provides the count of total number of units/services of a particular procedure given."
   ]
  },
  {
   "cell_type": "markdown",
   "id": "3c91dcdf",
   "metadata": {},
   "source": [
    "#### OP_HCPCS_PMT_AMT \n",
    "This field contains the payment made by Medicare for the procedure."
   ]
  },
  {
   "cell_type": "markdown",
   "id": "60ac4a39",
   "metadata": {},
   "source": [
    "#### PROC_CNT \n",
    "This field contains the number of outpatient procedures associated with each profile."
   ]
  },
  {
   "cell_type": "code",
   "execution_count": null,
   "id": "cac596d6",
   "metadata": {},
   "outputs": [],
   "source": [
    "df.shape"
   ]
  },
  {
   "cell_type": "markdown",
   "id": "567cfa98",
   "metadata": {},
   "source": [
    "### Data Cleaning"
   ]
  },
  {
   "cell_type": "code",
   "execution_count": null,
   "id": "c2957f6a",
   "metadata": {},
   "outputs": [],
   "source": [
    "df.isnull().sum()"
   ]
  },
  {
   "cell_type": "markdown",
   "id": "2c186714",
   "metadata": {},
   "source": [
    "There are Null values in the ICD9 code variable so we have to remove it."
   ]
  },
  {
   "cell_type": "code",
   "execution_count": null,
   "id": "fd860bfd",
   "metadata": {},
   "outputs": [],
   "source": [
    "data = df.dropna()"
   ]
  },
  {
   "cell_type": "code",
   "execution_count": null,
   "id": "de91d917",
   "metadata": {},
   "outputs": [],
   "source": [
    "data.isnull().sum()"
   ]
  },
  {
   "cell_type": "code",
   "execution_count": null,
   "id": "b49749fa",
   "metadata": {},
   "outputs": [],
   "source": [
    "data.info()"
   ]
  },
  {
   "cell_type": "markdown",
   "id": "6c09fd27",
   "metadata": {},
   "source": [
    "Here the null values are removed."
   ]
  },
  {
   "cell_type": "code",
   "execution_count": null,
   "id": "b7c665d3",
   "metadata": {},
   "outputs": [],
   "source": [
    "data.rename(columns = {'BENE_SEX_IDENT_CD' : 'Benificiary_Sex', \n",
    "                       'BENE_AGE_CAT_CD' : 'Benificiary_Age', \n",
    "                       'OP_CLM_ICD9_DIAG_CD' : 'ICD9_Codes',\n",
    "                       'OP_HCPCD_CD' : 'HCPCS_Codes',\n",
    "                       'OP_HCPCS_UNIT_CNT' : 'HCPCS_unit_counts',\n",
    "                       'OP_HCPCS_PMT_AMT' : 'HCPCS_Payment'}, inplace = True)"
   ]
  },
  {
   "cell_type": "code",
   "execution_count": null,
   "id": "4f4c3d93",
   "metadata": {},
   "outputs": [],
   "source": [
    "data.info()"
   ]
  },
  {
   "cell_type": "markdown",
   "id": "2429304a",
   "metadata": {},
   "source": [
    "Here we have made the data readability easy for the end user."
   ]
  },
  {
   "cell_type": "code",
   "execution_count": null,
   "id": "b5d53de2",
   "metadata": {},
   "outputs": [],
   "source": [
    "plt.figure(figsize=(20, 15))\n",
    "sp_plot = sns.barplot(x = data['Benificiary_Sex'], y = data['PROC_CNT'])\n",
    "sp_plot.set_title('Total Number of Procedures on Each Sex', size = 15)"
   ]
  },
  {
   "cell_type": "markdown",
   "id": "40377bd0",
   "metadata": {},
   "source": [
    "#### 1:- Male\n",
    "#### 2:- Female\n",
    "From this Plot we can understand that the Female benificiary are more in numbers than the male benificiary.\n"
   ]
  },
  {
   "cell_type": "code",
   "execution_count": null,
   "id": "167c8acb",
   "metadata": {},
   "outputs": [],
   "source": [
    "male_beneficiaries = pd.DataFrame(data.groupby(['Benificiary_Age'])['Benificiary_Sex'].sum().sort_values(ascending = False)).reset_index()\n",
    "female_beneficiaries = pd.DataFrame(data.groupby(['Benificiary_Age'])['Benificiary_Sex'].sum().sort_values(ascending = False)).reset_index()\n",
    "male_female_beneficiaries = pd.merge(male_beneficiaries,female_beneficiaries)"
   ]
  },
  {
   "cell_type": "code",
   "execution_count": null,
   "id": "8613f009",
   "metadata": {},
   "outputs": [],
   "source": [
    "male_female_beneficiaries"
   ]
  },
  {
   "cell_type": "markdown",
   "id": "3a5f8905",
   "metadata": {},
   "source": [
    "### Here Beneficiary_Age Represents as"
   ]
  },
  {
   "cell_type": "markdown",
   "id": "32d6957d",
   "metadata": {},
   "source": [
    "\n",
    "#### 1:- Under 65\n",
    "#### 2:- 65-69\n",
    "#### 3:- 70-74\n",
    "#### 4:- 75-79\n",
    "#### 5:- 80-84\n",
    "#### 6:- 85 and Above"
   ]
  },
  {
   "cell_type": "code",
   "execution_count": null,
   "id": "71123f38",
   "metadata": {},
   "outputs": [],
   "source": [
    "plt.barh(male_female_beneficiaries.Benificiary_Age,male_female_beneficiaries.Benificiary_Sex, color ='r')\n",
    "plt.xlabel('Total Benificiary', fontweight ='bold', fontsize = 15) \n",
    "plt.ylabel('Age Groups',fontweight ='bold', fontsize = 15)\n",
    "plt.figure(figsize=(30, 20))\n",
    "plt.show()"
   ]
  },
  {
   "cell_type": "markdown",
   "id": "a0771f9a",
   "metadata": {},
   "source": [
    "Here we can see that the Benificiary from both the female and the male groups are from the Age group Under 65 which summarizes that\n",
    "most of the benificiary are from age less than 65."
   ]
  },
  {
   "cell_type": "markdown",
   "id": "19920151",
   "metadata": {},
   "source": [
    "And the least Are from the Age group of 80-84"
   ]
  },
  {
   "cell_type": "markdown",
   "id": "95603753",
   "metadata": {},
   "source": [
    "### Now lets get the insights of the Diagnosis provided by the doctors to the beneficiary with the help of various graphs."
   ]
  },
  {
   "cell_type": "code",
   "execution_count": null,
   "id": "9d6219cb",
   "metadata": {},
   "outputs": [],
   "source": [
    "data"
   ]
  },
  {
   "cell_type": "code",
   "execution_count": null,
   "id": "d8511a41",
   "metadata": {},
   "outputs": [],
   "source": [
    "data['ICD9_Codes'].sample(10)  #The second column represents the ICD9 Codes for various entries."
   ]
  },
  {
   "cell_type": "markdown",
   "id": "02620d20",
   "metadata": {},
   "source": [
    "#### Here we can see that the ICD9 Codes are three digit codes for Various diagnosis of the patient.\n",
    "\n",
    "#### The values of the various diagnosis are given below:-\n",
    "###### 001 ‐ 139 :- Infectious and parasitic diseases \n",
    "###### 140 ‐ 239:-  Neoplasms \n",
    "###### 240 ‐ 279:-  Endocrine, nutritional and metabolic diseases,and immunity disorders \n",
    "###### 280 ‐ 289:-  Diseases of the blood and blood‐forming organs \n",
    "###### 290 ‐ 319:-  Mental disorders \n",
    "###### 320 ‐ 389:-  Diseases of the nervous system and sense organs \n",
    "###### 390 ‐ 459:-  Diseases of the circulatory system \n",
    "###### 460 ‐ 519:-  Diseases of the respiratory system \n",
    "###### 520 ‐ 579:-  Diseases of the digestive system \n",
    "###### 580 ‐ 629:-  Diseases of the genitourinary system\n",
    "###### 630 ‐ 679:-  Complications of pregnancy, childbirth, and the puerperium \n",
    "###### 680 ‐ 709:-  Diseases of the skin and subcutaneous tissue \n",
    "###### 710 ‐ 739:-  Diseases of the musculoskeletal system and connective tissue\n",
    "###### 740 ‐ 759:-  Congenital anomalies \n",
    "###### 760 ‐ 779:-  Certain conditions originating in the perinatal period \n",
    "###### 780 ‐ 799:-  Symptoms, signs, and ill‐defined condition\n",
    "###### 800 ‐ 999:-  Injury and poisoning\n",
    "###### V codes Supplementary Classification Of Factors Influencing Health Status And Contact With Health Services "
   ]
  },
  {
   "cell_type": "code",
   "execution_count": null,
   "id": "cfddf45b",
   "metadata": {},
   "outputs": [],
   "source": [
    "plt.figure(figsize=(30, 20))\n",
    "plt.yticks(fontsize=10, rotation=45)\n",
    "sns.histplot(data=data, y=data['ICD9_Codes'], x=None, hue=None, weights=None, stat='count', bins='auto', multiple='layer', element='bars', fill=True, shrink=1, color=None, legend=True)"
   ]
  },
  {
   "cell_type": "markdown",
   "id": "8cb54cfa",
   "metadata": {},
   "source": [
    "As we can see that the groups of the icd9 codes are not clearly visible so we need to make the groups of the diagnosis so that the histogram is clearly visible."
   ]
  },
  {
   "cell_type": "code",
   "execution_count": null,
   "id": "7f67d094",
   "metadata": {},
   "outputs": [],
   "source": [
    "data['ICD9_Codes'] = pd.to_numeric(data['ICD9_Codes'], errors='coerce') \n",
    "data = data.dropna(subset=['ICD9_Codes']) \n",
    "data['ICD9_Codes'] = data['ICD9_Codes'].astype(int)"
   ]
  },
  {
   "cell_type": "code",
   "execution_count": null,
   "id": "4951cf3e",
   "metadata": {},
   "outputs": [],
   "source": [
    "data.sample(10)"
   ]
  },
  {
   "cell_type": "code",
   "execution_count": null,
   "id": "3d0c1244",
   "metadata": {},
   "outputs": [],
   "source": [
    "bins = [1,139,239,279,289,319,389,459,519,579,629,679,709,739,759,779,799,1000]\n",
    "labels = ['001-139', '140-239', '240-279', '280-289', '290-319', '320-389', '390-459','460-519','520-579','580-629','630-679','680-709','710-739','740-759','760-779','780-799','800-999']\n",
    "data['group'] = pd.cut(data['ICD9_Codes'], bins=bins, labels=labels, right=False)"
   ]
  },
  {
   "cell_type": "markdown",
   "id": "da676eb6",
   "metadata": {},
   "source": [
    "As we can see here the groups are made perfectly for further analysis and insights of the icd9 codes, so lets make the histogram."
   ]
  },
  {
   "cell_type": "code",
   "execution_count": null,
   "id": "e212f9c2",
   "metadata": {},
   "outputs": [],
   "source": [
    "plt.figure(figsize=(30, 20))\n",
    "plt.yticks(fontsize=20, rotation=45)\n",
    "sns.histplot(data=data, y=data['group'], x=None, hue=None, weights=None, stat='count', bins='auto', multiple='layer', element='bars', fill=True, shrink=1, color=None, legend=True)"
   ]
  },
  {
   "cell_type": "markdown",
   "id": "d123b5f8",
   "metadata": {},
   "source": [
    "##### From the above graph we can conclude that the group 780-799 have the most number of counts which conclude the below things:-\n",
    "1. The Beneficiary mostly have the ill-condition and Symptomns to claim their insurance rather than other condition.\n",
    "2. The diagnosis provided by the doctors are for the ill-condition and Symptoms\n",
    "3. The Second most diagnosis provided by the doctors is for the Circulatotry disorder."
   ]
  },
  {
   "cell_type": "code",
   "execution_count": null,
   "id": "c2201f5b",
   "metadata": {},
   "outputs": [],
   "source": [
    "plt.figure(figsize=(20, 15))\n",
    "sp_plot = sns.barplot(x = data['group'], y = data['HCPCS_Payment'])\n",
    "sp_plot.set_title('Most Payments By Each Diagnosis', size = 15)"
   ]
  },
  {
   "cell_type": "markdown",
   "id": "75929df7",
   "metadata": {},
   "source": [
    "From the above graph we can conclude that the group 390-459 that is the group of circulatory disesase has the most number of the payments made by the medicare to the hospitals which indeed suggests that the claim for the circulatory disease is more than any other."
   ]
  },
  {
   "cell_type": "code",
   "execution_count": null,
   "id": "f24ea4e9",
   "metadata": {},
   "outputs": [],
   "source": [
    "data"
   ]
  },
  {
   "cell_type": "code",
   "execution_count": null,
   "id": "879c04ed",
   "metadata": {},
   "outputs": [],
   "source": [
    "plt.figure(figsize=(20, 15))\n",
    "plt.pie(data['Benificiary_Age'], labels=data['Benificiary_Sex'], autopct='%1.1f%%')\n",
    "plt.title('My Pie Chart')\n",
    "plt.show()"
   ]
  },
  {
   "cell_type": "code",
   "execution_count": null,
   "id": "b396d412",
   "metadata": {},
   "outputs": [],
   "source": [
    "plt.figure(figsize=(30, 20))\n",
    "plt.yticks(fontsize=20, rotation=45)\n",
    "plt.ylim(0, 5000)\n",
    "sns.histplot(data=data, y=data['HCPCS_Payment'], x=None, hue=None, weights=None, stat='count', bins=30, multiple='layer', element='bars', fill=True, shrink=1, color=None, legend=True)"
   ]
  },
  {
   "cell_type": "markdown",
   "id": "d35a67ce",
   "metadata": {},
   "source": [
    "Here we can see that most of the payments are from the 0-1000 category and more specifically the $10 payments"
   ]
  },
  {
   "cell_type": "code",
   "execution_count": null,
   "id": "8b39f537",
   "metadata": {},
   "outputs": [],
   "source": [
    "data['HCPCS_Payment'].value_counts()"
   ]
  },
  {
   "cell_type": "code",
   "execution_count": null,
   "id": "f791db6e",
   "metadata": {},
   "outputs": [],
   "source": [
    "plt.figure(figsize=(12, 6)) \n",
    "sns.histplot(x=data['HCPCS_Codes'],y=None, data=data) \n",
    "plt.xlabel('Disease') \n",
    "plt.ylabel('Count') \n",
    "plt.title('Disease Counts for Age Group X') \n",
    "plt.xticks(rotation=45) \n",
    "plt.grid(True) \n",
    "plt.show()"
   ]
  }
 ],
 "metadata": {
  "kernelspec": {
   "display_name": "Python 3 (ipykernel)",
   "language": "python",
   "name": "python3"
  },
  "language_info": {
   "codemirror_mode": {
    "name": "ipython",
    "version": 3
   },
   "file_extension": ".py",
   "mimetype": "text/x-python",
   "name": "python",
   "nbconvert_exporter": "python",
   "pygments_lexer": "ipython3",
   "version": "3.10.2"
  }
 },
 "nbformat": 4,
 "nbformat_minor": 5
}
